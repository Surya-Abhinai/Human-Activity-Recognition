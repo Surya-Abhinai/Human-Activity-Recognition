{
 "cells": [
  {
   "cell_type": "code",
   "execution_count": 4,
   "id": "d07a68ab",
   "metadata": {},
   "outputs": [],
   "source": [
    "import scipy.stats as stats\n"
   ]
  },
  {
   "cell_type": "code",
   "execution_count": 5,
   "id": "af4b81e9",
   "metadata": {},
   "outputs": [],
   "source": [
    "import seaborn as sns\n",
    "import pandas as pd\n",
    "import numpy as np\n",
    "dataset=pd.read_csv('har.csv')"
   ]
  },
  {
   "cell_type": "code",
   "execution_count": 31,
   "id": "023c024d",
   "metadata": {},
   "outputs": [
    {
     "data": {
      "text/html": [
       "<div>\n",
       "<style scoped>\n",
       "    .dataframe tbody tr th:only-of-type {\n",
       "        vertical-align: middle;\n",
       "    }\n",
       "\n",
       "    .dataframe tbody tr th {\n",
       "        vertical-align: top;\n",
       "    }\n",
       "\n",
       "    .dataframe thead th {\n",
       "        text-align: right;\n",
       "    }\n",
       "</style>\n",
       "<table border=\"1\" class=\"dataframe\">\n",
       "  <thead>\n",
       "    <tr style=\"text-align: right;\">\n",
       "      <th></th>\n",
       "      <th>tBodyAcc-mean()-X</th>\n",
       "      <th>tBodyAcc-mean()-Y</th>\n",
       "      <th>tBodyAcc-mean()-Z</th>\n",
       "      <th>tBodyAcc-std()-X</th>\n",
       "      <th>tBodyAcc-std()-Y</th>\n",
       "      <th>tBodyAcc-std()-Z</th>\n",
       "      <th>tBodyGyro-mean()-X</th>\n",
       "      <th>tBodyGyro-mean()-Y</th>\n",
       "      <th>tBodyGyro-mean()-Z</th>\n",
       "      <th>tBodyGyro-std()-X</th>\n",
       "      <th>tBodyGyro-std()-Y</th>\n",
       "      <th>tBodyGyro-std()-Z</th>\n",
       "      <th>Activity</th>\n",
       "    </tr>\n",
       "  </thead>\n",
       "  <tbody>\n",
       "    <tr>\n",
       "      <th>0</th>\n",
       "      <td>0.288585</td>\n",
       "      <td>-0.020294</td>\n",
       "      <td>-0.132905</td>\n",
       "      <td>-0.995279</td>\n",
       "      <td>-0.983111</td>\n",
       "      <td>-0.913526</td>\n",
       "      <td>-0.006101</td>\n",
       "      <td>-0.031365</td>\n",
       "      <td>0.107725</td>\n",
       "      <td>-0.985310</td>\n",
       "      <td>-0.976623</td>\n",
       "      <td>-0.992205</td>\n",
       "      <td>STANDING</td>\n",
       "    </tr>\n",
       "    <tr>\n",
       "      <th>1</th>\n",
       "      <td>0.278419</td>\n",
       "      <td>-0.016411</td>\n",
       "      <td>-0.123520</td>\n",
       "      <td>-0.998245</td>\n",
       "      <td>-0.975300</td>\n",
       "      <td>-0.960322</td>\n",
       "      <td>-0.016112</td>\n",
       "      <td>-0.083894</td>\n",
       "      <td>0.100584</td>\n",
       "      <td>-0.983120</td>\n",
       "      <td>-0.989046</td>\n",
       "      <td>-0.989121</td>\n",
       "      <td>STANDING</td>\n",
       "    </tr>\n",
       "    <tr>\n",
       "      <th>2</th>\n",
       "      <td>0.279653</td>\n",
       "      <td>-0.019467</td>\n",
       "      <td>-0.113462</td>\n",
       "      <td>-0.995380</td>\n",
       "      <td>-0.967187</td>\n",
       "      <td>-0.978944</td>\n",
       "      <td>-0.031698</td>\n",
       "      <td>-0.102335</td>\n",
       "      <td>0.096127</td>\n",
       "      <td>-0.976292</td>\n",
       "      <td>-0.993552</td>\n",
       "      <td>-0.986379</td>\n",
       "      <td>STANDING</td>\n",
       "    </tr>\n",
       "    <tr>\n",
       "      <th>3</th>\n",
       "      <td>0.279174</td>\n",
       "      <td>-0.026201</td>\n",
       "      <td>-0.123283</td>\n",
       "      <td>-0.996091</td>\n",
       "      <td>-0.983403</td>\n",
       "      <td>-0.990675</td>\n",
       "      <td>-0.043410</td>\n",
       "      <td>-0.091386</td>\n",
       "      <td>0.085538</td>\n",
       "      <td>-0.991385</td>\n",
       "      <td>-0.992407</td>\n",
       "      <td>-0.987554</td>\n",
       "      <td>STANDING</td>\n",
       "    </tr>\n",
       "    <tr>\n",
       "      <th>4</th>\n",
       "      <td>0.276629</td>\n",
       "      <td>-0.016570</td>\n",
       "      <td>-0.115362</td>\n",
       "      <td>-0.998139</td>\n",
       "      <td>-0.980817</td>\n",
       "      <td>-0.990482</td>\n",
       "      <td>-0.033960</td>\n",
       "      <td>-0.074708</td>\n",
       "      <td>0.077392</td>\n",
       "      <td>-0.985184</td>\n",
       "      <td>-0.992378</td>\n",
       "      <td>-0.987402</td>\n",
       "      <td>STANDING</td>\n",
       "    </tr>\n",
       "  </tbody>\n",
       "</table>\n",
       "</div>"
      ],
      "text/plain": [
       "   tBodyAcc-mean()-X  tBodyAcc-mean()-Y  tBodyAcc-mean()-Z  tBodyAcc-std()-X  \\\n",
       "0           0.288585          -0.020294          -0.132905         -0.995279   \n",
       "1           0.278419          -0.016411          -0.123520         -0.998245   \n",
       "2           0.279653          -0.019467          -0.113462         -0.995380   \n",
       "3           0.279174          -0.026201          -0.123283         -0.996091   \n",
       "4           0.276629          -0.016570          -0.115362         -0.998139   \n",
       "\n",
       "   tBodyAcc-std()-Y  tBodyAcc-std()-Z  tBodyGyro-mean()-X  tBodyGyro-mean()-Y  \\\n",
       "0         -0.983111         -0.913526           -0.006101           -0.031365   \n",
       "1         -0.975300         -0.960322           -0.016112           -0.083894   \n",
       "2         -0.967187         -0.978944           -0.031698           -0.102335   \n",
       "3         -0.983403         -0.990675           -0.043410           -0.091386   \n",
       "4         -0.980817         -0.990482           -0.033960           -0.074708   \n",
       "\n",
       "   tBodyGyro-mean()-Z  tBodyGyro-std()-X  tBodyGyro-std()-Y  \\\n",
       "0            0.107725          -0.985310          -0.976623   \n",
       "1            0.100584          -0.983120          -0.989046   \n",
       "2            0.096127          -0.976292          -0.993552   \n",
       "3            0.085538          -0.991385          -0.992407   \n",
       "4            0.077392          -0.985184          -0.992378   \n",
       "\n",
       "   tBodyGyro-std()-Z  Activity  \n",
       "0          -0.992205  STANDING  \n",
       "1          -0.989121  STANDING  \n",
       "2          -0.986379  STANDING  \n",
       "3          -0.987554  STANDING  \n",
       "4          -0.987402  STANDING  "
      ]
     },
     "execution_count": 31,
     "metadata": {},
     "output_type": "execute_result"
    }
   ],
   "source": [
    "dataset.head()"
   ]
  },
  {
   "cell_type": "code",
   "execution_count": 12,
   "id": "64dddbd7",
   "metadata": {},
   "outputs": [
    {
     "name": "stdout",
     "output_type": "stream",
     "text": [
      "tBodyAcc-mean()-Y  -1.000000  -0.684893  -0.684097  -0.618098  -0.594207  \\\n",
      "tBodyAcc-mean()-X                                                          \n",
      "-1.000000                  0          0          0          0          0   \n",
      "-0.872395                  0          0          0          0          0   \n",
      "-0.853848                  0          0          0          0          0   \n",
      "-0.503823                  0          0          0          0          1   \n",
      "-0.466440                  0          0          0          1          0   \n",
      "...                      ...        ...        ...        ...        ...   \n",
      " 0.631510                  0          0          0          0          0   \n",
      " 0.632627                  0          0          0          0          0   \n",
      " 0.680266                  0          0          0          0          0   \n",
      " 0.692761                  0          0          0          0          0   \n",
      " 1.000000                  0          0          0          0          0   \n",
      "\n",
      "tBodyAcc-mean()-Y  -0.544314  -0.518733  -0.484880  -0.448541  -0.413865  ...  \\\n",
      "tBodyAcc-mean()-X                                                         ...   \n",
      "-1.000000                  0          0          0          0          0  ...   \n",
      "-0.872395                  0          0          0          0          0  ...   \n",
      "-0.853848                  0          0          0          0          0  ...   \n",
      "-0.503823                  0          0          0          0          0  ...   \n",
      "-0.466440                  0          0          0          0          0  ...   \n",
      "...                      ...        ...        ...        ...        ...  ...   \n",
      " 0.631510                  0          0          0          0          0  ...   \n",
      " 0.632627                  0          0          0          0          0  ...   \n",
      " 0.680266                  0          0          0          0          0  ...   \n",
      " 0.692761                  0          0          0          0          0  ...   \n",
      " 1.000000                  0          0          0          0          0  ...   \n",
      "\n",
      "tBodyAcc-mean()-Y   0.324130   0.343501   0.359587   0.359619   0.373293  \\\n",
      "tBodyAcc-mean()-X                                                          \n",
      "-1.000000                  0          0          0          0          0   \n",
      "-0.872395                  0          0          0          0          0   \n",
      "-0.853848                  0          0          0          0          0   \n",
      "-0.503823                  0          0          0          0          0   \n",
      "-0.466440                  0          0          0          0          0   \n",
      "...                      ...        ...        ...        ...        ...   \n",
      " 0.631510                  0          0          0          0          0   \n",
      " 0.632627                  0          0          0          0          0   \n",
      " 0.680266                  0          0          0          0          0   \n",
      " 0.692761                  0          0          0          0          0   \n",
      " 1.000000                  0          0          0          0          0   \n",
      "\n",
      "tBodyAcc-mean()-Y   0.449234   0.535820   0.594513   0.646747   1.000000  \n",
      "tBodyAcc-mean()-X                                                         \n",
      "-1.000000                  0          0          0          0          0  \n",
      "-0.872395                  0          0          0          0          0  \n",
      "-0.853848                  0          0          0          0          0  \n",
      "-0.503823                  0          0          0          0          0  \n",
      "-0.466440                  0          0          0          0          0  \n",
      "...                      ...        ...        ...        ...        ...  \n",
      " 0.631510                  0          0          0          0          0  \n",
      " 0.632627                  0          0          0          0          1  \n",
      " 0.680266                  0          0          1          0          0  \n",
      " 0.692761                  0          0          0          0          0  \n",
      " 1.000000                  0          1          0          0          0  \n",
      "\n",
      "[7347 rows x 7352 columns]\n",
      "tBodyAcc-mean()-Y  -1.000000  -0.684893  -0.684097  -0.618098  -0.594207  \\\n",
      "tBodyAcc-mean()-X                                                          \n",
      "-1.000000                  0          0          0          0          0   \n",
      "-0.872395                  0          0          0          0          0   \n",
      "-0.853848                  0          0          0          0          0   \n",
      "-0.503823                  0          0          0          0          1   \n",
      "-0.466440                  0          0          0          1          0   \n",
      "...                      ...        ...        ...        ...        ...   \n",
      " 0.631510                  0          0          0          0          0   \n",
      " 0.632627                  0          0          0          0          0   \n",
      " 0.680266                  0          0          0          0          0   \n",
      " 0.692761                  0          0          0          0          0   \n",
      " 1.000000                  0          0          0          0          0   \n",
      "\n",
      "tBodyAcc-mean()-Y  -0.544314  -0.518733  -0.484880  -0.448541  -0.413865  ...  \\\n",
      "tBodyAcc-mean()-X                                                         ...   \n",
      "-1.000000                  0          0          0          0          0  ...   \n",
      "-0.872395                  0          0          0          0          0  ...   \n",
      "-0.853848                  0          0          0          0          0  ...   \n",
      "-0.503823                  0          0          0          0          0  ...   \n",
      "-0.466440                  0          0          0          0          0  ...   \n",
      "...                      ...        ...        ...        ...        ...  ...   \n",
      " 0.631510                  0          0          0          0          0  ...   \n",
      " 0.632627                  0          0          0          0          0  ...   \n",
      " 0.680266                  0          0          0          0          0  ...   \n",
      " 0.692761                  0          0          0          0          0  ...   \n",
      " 1.000000                  0          0          0          0          0  ...   \n",
      "\n",
      "tBodyAcc-mean()-Y   0.324130   0.343501   0.359587   0.359619   0.373293  \\\n",
      "tBodyAcc-mean()-X                                                          \n",
      "-1.000000                  0          0          0          0          0   \n",
      "-0.872395                  0          0          0          0          0   \n",
      "-0.853848                  0          0          0          0          0   \n",
      "-0.503823                  0          0          0          0          0   \n",
      "-0.466440                  0          0          0          0          0   \n",
      "...                      ...        ...        ...        ...        ...   \n",
      " 0.631510                  0          0          0          0          0   \n",
      " 0.632627                  0          0          0          0          0   \n",
      " 0.680266                  0          0          0          0          0   \n",
      " 0.692761                  0          0          0          0          0   \n",
      " 1.000000                  0          0          0          0          0   \n",
      "\n",
      "tBodyAcc-mean()-Y   0.449234   0.535820   0.594513   0.646747   1.000000  \n",
      "tBodyAcc-mean()-X                                                         \n",
      "-1.000000                  0          0          0          0          0  \n",
      "-0.872395                  0          0          0          0          0  \n",
      "-0.853848                  0          0          0          0          0  \n",
      "-0.503823                  0          0          0          0          0  \n",
      "-0.466440                  0          0          0          0          0  \n",
      "...                      ...        ...        ...        ...        ...  \n",
      " 0.631510                  0          0          0          0          0  \n",
      " 0.632627                  0          0          0          0          1  \n",
      " 0.680266                  0          0          1          0          0  \n",
      " 0.692761                  0          0          0          0          0  \n",
      " 1.000000                  0          1          0          0          0  \n",
      "\n",
      "[7347 rows x 7352 columns]\n",
      "tBodyAcc-mean()-Y  -1.000000  -0.684893  -0.684097  -0.618098  -0.594207  \\\n",
      "tBodyAcc-mean()-X                                                          \n",
      "-1.000000                  0          0          0          0          0   \n",
      "-0.872395                  0          0          0          0          0   \n",
      "-0.853848                  0          0          0          0          0   \n",
      "-0.503823                  0          0          0          0          1   \n",
      "-0.466440                  0          0          0          1          0   \n",
      "...                      ...        ...        ...        ...        ...   \n",
      " 0.631510                  0          0          0          0          0   \n",
      " 0.632627                  0          0          0          0          0   \n",
      " 0.680266                  0          0          0          0          0   \n",
      " 0.692761                  0          0          0          0          0   \n",
      " 1.000000                  0          0          0          0          0   \n",
      "\n",
      "tBodyAcc-mean()-Y  -0.544314  -0.518733  -0.484880  -0.448541  -0.413865  ...  \\\n",
      "tBodyAcc-mean()-X                                                         ...   \n",
      "-1.000000                  0          0          0          0          0  ...   \n",
      "-0.872395                  0          0          0          0          0  ...   \n",
      "-0.853848                  0          0          0          0          0  ...   \n",
      "-0.503823                  0          0          0          0          0  ...   \n",
      "-0.466440                  0          0          0          0          0  ...   \n",
      "...                      ...        ...        ...        ...        ...  ...   \n",
      " 0.631510                  0          0          0          0          0  ...   \n",
      " 0.632627                  0          0          0          0          0  ...   \n",
      " 0.680266                  0          0          0          0          0  ...   \n",
      " 0.692761                  0          0          0          0          0  ...   \n",
      " 1.000000                  0          0          0          0          0  ...   \n",
      "\n",
      "tBodyAcc-mean()-Y   0.324130   0.343501   0.359587   0.359619   0.373293  \\\n",
      "tBodyAcc-mean()-X                                                          \n",
      "-1.000000                  0          0          0          0          0   \n",
      "-0.872395                  0          0          0          0          0   \n",
      "-0.853848                  0          0          0          0          0   \n",
      "-0.503823                  0          0          0          0          0   \n",
      "-0.466440                  0          0          0          0          0   \n",
      "...                      ...        ...        ...        ...        ...   \n",
      " 0.631510                  0          0          0          0          0   \n",
      " 0.632627                  0          0          0          0          0   \n",
      " 0.680266                  0          0          0          0          0   \n",
      " 0.692761                  0          0          0          0          0   \n",
      " 1.000000                  0          0          0          0          0   \n",
      "\n",
      "tBodyAcc-mean()-Y   0.449234   0.535820   0.594513   0.646747   1.000000  \n",
      "tBodyAcc-mean()-X                                                         \n",
      "-1.000000                  0          0          0          0          0  \n",
      "-0.872395                  0          0          0          0          0  \n",
      "-0.853848                  0          0          0          0          0  \n",
      "-0.503823                  0          0          0          0          0  \n",
      "-0.466440                  0          0          0          0          0  \n",
      "...                      ...        ...        ...        ...        ...  \n",
      " 0.631510                  0          0          0          0          0  \n",
      " 0.632627                  0          0          0          0          1  \n",
      " 0.680266                  0          0          1          0          0  \n",
      " 0.692761                  0          0          0          0          0  \n",
      " 1.000000                  0          1          0          0          0  \n",
      "\n",
      "[7347 rows x 7352 columns]\n",
      "tBodyAcc-mean()-Y  -1.000000  -0.684893  -0.684097  -0.618098  -0.594207  \\\n",
      "tBodyAcc-mean()-X                                                          \n",
      "-1.000000                  0          0          0          0          0   \n",
      "-0.872395                  0          0          0          0          0   \n",
      "-0.853848                  0          0          0          0          0   \n",
      "-0.503823                  0          0          0          0          1   \n",
      "-0.466440                  0          0          0          1          0   \n",
      "...                      ...        ...        ...        ...        ...   \n",
      " 0.631510                  0          0          0          0          0   \n",
      " 0.632627                  0          0          0          0          0   \n",
      " 0.680266                  0          0          0          0          0   \n",
      " 0.692761                  0          0          0          0          0   \n",
      " 1.000000                  0          0          0          0          0   \n",
      "\n",
      "tBodyAcc-mean()-Y  -0.544314  -0.518733  -0.484880  -0.448541  -0.413865  ...  \\\n",
      "tBodyAcc-mean()-X                                                         ...   \n",
      "-1.000000                  0          0          0          0          0  ...   \n",
      "-0.872395                  0          0          0          0          0  ...   \n",
      "-0.853848                  0          0          0          0          0  ...   \n",
      "-0.503823                  0          0          0          0          0  ...   \n",
      "-0.466440                  0          0          0          0          0  ...   \n",
      "...                      ...        ...        ...        ...        ...  ...   \n",
      " 0.631510                  0          0          0          0          0  ...   \n",
      " 0.632627                  0          0          0          0          0  ...   \n",
      " 0.680266                  0          0          0          0          0  ...   \n",
      " 0.692761                  0          0          0          0          0  ...   \n",
      " 1.000000                  0          0          0          0          0  ...   \n",
      "\n",
      "tBodyAcc-mean()-Y   0.324130   0.343501   0.359587   0.359619   0.373293  \\\n",
      "tBodyAcc-mean()-X                                                          \n",
      "-1.000000                  0          0          0          0          0   \n",
      "-0.872395                  0          0          0          0          0   \n",
      "-0.853848                  0          0          0          0          0   \n",
      "-0.503823                  0          0          0          0          0   \n",
      "-0.466440                  0          0          0          0          0   \n",
      "...                      ...        ...        ...        ...        ...   \n",
      " 0.631510                  0          0          0          0          0   \n",
      " 0.632627                  0          0          0          0          0   \n",
      " 0.680266                  0          0          0          0          0   \n",
      " 0.692761                  0          0          0          0          0   \n",
      " 1.000000                  0          0          0          0          0   \n",
      "\n",
      "tBodyAcc-mean()-Y   0.449234   0.535820   0.594513   0.646747   1.000000  \n",
      "tBodyAcc-mean()-X                                                         \n",
      "-1.000000                  0          0          0          0          0  \n",
      "-0.872395                  0          0          0          0          0  \n",
      "-0.853848                  0          0          0          0          0  \n",
      "-0.503823                  0          0          0          0          0  \n",
      "-0.466440                  0          0          0          0          0  \n",
      "...                      ...        ...        ...        ...        ...  \n",
      " 0.631510                  0          0          0          0          0  \n",
      " 0.632627                  0          0          0          0          1  \n",
      " 0.680266                  0          0          1          0          0  \n",
      " 0.692761                  0          0          0          0          0  \n",
      " 1.000000                  0          1          0          0          0  \n",
      "\n",
      "[7347 rows x 7352 columns]\n",
      "tBodyAcc-mean()-Y  -1.000000  -0.684893  -0.684097  -0.618098  -0.594207  \\\n",
      "tBodyAcc-mean()-X                                                          \n",
      "-1.000000                  0          0          0          0          0   \n",
      "-0.872395                  0          0          0          0          0   \n",
      "-0.853848                  0          0          0          0          0   \n",
      "-0.503823                  0          0          0          0          1   \n",
      "-0.466440                  0          0          0          1          0   \n",
      "...                      ...        ...        ...        ...        ...   \n",
      " 0.631510                  0          0          0          0          0   \n",
      " 0.632627                  0          0          0          0          0   \n",
      " 0.680266                  0          0          0          0          0   \n",
      " 0.692761                  0          0          0          0          0   \n",
      " 1.000000                  0          0          0          0          0   \n",
      "\n",
      "tBodyAcc-mean()-Y  -0.544314  -0.518733  -0.484880  -0.448541  -0.413865  ...  \\\n",
      "tBodyAcc-mean()-X                                                         ...   \n",
      "-1.000000                  0          0          0          0          0  ...   \n",
      "-0.872395                  0          0          0          0          0  ...   \n",
      "-0.853848                  0          0          0          0          0  ...   \n",
      "-0.503823                  0          0          0          0          0  ...   \n",
      "-0.466440                  0          0          0          0          0  ...   \n",
      "...                      ...        ...        ...        ...        ...  ...   \n",
      " 0.631510                  0          0          0          0          0  ...   \n",
      " 0.632627                  0          0          0          0          0  ...   \n",
      " 0.680266                  0          0          0          0          0  ...   \n",
      " 0.692761                  0          0          0          0          0  ...   \n",
      " 1.000000                  0          0          0          0          0  ...   \n",
      "\n",
      "tBodyAcc-mean()-Y   0.324130   0.343501   0.359587   0.359619   0.373293  \\\n",
      "tBodyAcc-mean()-X                                                          \n",
      "-1.000000                  0          0          0          0          0   \n",
      "-0.872395                  0          0          0          0          0   \n",
      "-0.853848                  0          0          0          0          0   \n",
      "-0.503823                  0          0          0          0          0   \n",
      "-0.466440                  0          0          0          0          0   \n",
      "...                      ...        ...        ...        ...        ...   \n",
      " 0.631510                  0          0          0          0          0   \n",
      " 0.632627                  0          0          0          0          0   \n",
      " 0.680266                  0          0          0          0          0   \n",
      " 0.692761                  0          0          0          0          0   \n",
      " 1.000000                  0          0          0          0          0   \n",
      "\n",
      "tBodyAcc-mean()-Y   0.449234   0.535820   0.594513   0.646747   1.000000  \n",
      "tBodyAcc-mean()-X                                                         \n",
      "-1.000000                  0          0          0          0          0  \n",
      "-0.872395                  0          0          0          0          0  \n",
      "-0.853848                  0          0          0          0          0  \n",
      "-0.503823                  0          0          0          0          0  \n",
      "-0.466440                  0          0          0          0          0  \n",
      "...                      ...        ...        ...        ...        ...  \n",
      " 0.631510                  0          0          0          0          0  \n",
      " 0.632627                  0          0          0          0          1  \n",
      " 0.680266                  0          0          1          0          0  \n",
      " 0.692761                  0          0          0          0          0  \n",
      " 1.000000                  0          1          0          0          0  \n",
      "\n",
      "[7347 rows x 7352 columns]\n"
     ]
    }
   ],
   "source": [
    "# Assuming you want to iterate over the first 5 indices\n",
    "for i in range(5):  \n",
    "    dataset_table = pd.crosstab(dataset['tBodyAcc-mean()-X'], dataset['tBodyAcc-mean()-Y'])\n",
    "    print(dataset_table)"
   ]
  },
  {
   "cell_type": "code",
   "execution_count": 30,
   "id": "64c61c3e",
   "metadata": {},
   "outputs": [],
   "source": [
    "selected_features = ['tBodyAcc-mean()-X','tBodyAcc-mean()-Y','tBodyAcc-mean()-Z' ,'tBodyAcc-std()-X' , 'tBodyAcc-std()-Y' , 'tBodyAcc-std()-Z' , 'tBodyGyro-mean()-X' ,'tBodyGyro-mean()-Y','tBodyGyro-mean()-Z',\n",
    "'tBodyGyro-std()-X',\n",
    "'tBodyGyro-std()-Y',\n",
    "'tBodyGyro-std()-Z' , 'Activity']\n",
    "\n",
    "dataset = dataset[selected_features]"
   ]
  },
  {
   "cell_type": "code",
   "execution_count": 13,
   "id": "4cf589bd",
   "metadata": {},
   "outputs": [
    {
     "data": {
      "text/plain": [
       "array([[0, 0, 0, ..., 0, 0, 0],\n",
       "       [0, 0, 0, ..., 0, 0, 0],\n",
       "       [0, 0, 0, ..., 0, 0, 0],\n",
       "       ...,\n",
       "       [0, 0, 0, ..., 1, 0, 0],\n",
       "       [0, 0, 0, ..., 0, 0, 0],\n",
       "       [0, 0, 0, ..., 0, 0, 0]], dtype=int64)"
      ]
     },
     "execution_count": 13,
     "metadata": {},
     "output_type": "execute_result"
    }
   ],
   "source": [
    "dataset_table.values "
   ]
  },
  {
   "cell_type": "code",
   "execution_count": 14,
   "id": "52b5ee22",
   "metadata": {},
   "outputs": [
    {
     "name": "stdout",
     "output_type": "stream",
     "text": [
      "Observed Values :-\n",
      " [[0 0 0 ... 0 0 0]\n",
      " [0 0 0 ... 0 0 0]\n",
      " [0 0 0 ... 0 0 0]\n",
      " ...\n",
      " [0 0 0 ... 1 0 0]\n",
      " [0 0 0 ... 0 0 0]\n",
      " [0 0 0 ... 0 0 0]]\n"
     ]
    }
   ],
   "source": [
    "#Observed Values\n",
    "Observed_Values = dataset_table.values \n",
    "print(\"Observed Values :-\\n\",Observed_Values)"
   ]
  },
  {
   "cell_type": "code",
   "execution_count": 15,
   "id": "206e33da",
   "metadata": {},
   "outputs": [],
   "source": [
    "val=stats.chi2_contingency(dataset_table)"
   ]
  },
  {
   "cell_type": "code",
   "execution_count": 16,
   "id": "61650864",
   "metadata": {},
   "outputs": [
    {
     "data": {
      "text/plain": [
       "Chi2ContingencyResult(statistic=54007791.99999668, pvalue=0.23981482201978524, dof=54000446, expected_freq=array([[0.00013602, 0.00013602, 0.00013602, ..., 0.00013602, 0.00013602,\n",
       "        0.00013602],\n",
       "       [0.00013602, 0.00013602, 0.00013602, ..., 0.00013602, 0.00013602,\n",
       "        0.00013602],\n",
       "       [0.00013602, 0.00013602, 0.00013602, ..., 0.00013602, 0.00013602,\n",
       "        0.00013602],\n",
       "       ...,\n",
       "       [0.00013602, 0.00013602, 0.00013602, ..., 0.00013602, 0.00013602,\n",
       "        0.00013602],\n",
       "       [0.00013602, 0.00013602, 0.00013602, ..., 0.00013602, 0.00013602,\n",
       "        0.00013602],\n",
       "       [0.00013602, 0.00013602, 0.00013602, ..., 0.00013602, 0.00013602,\n",
       "        0.00013602]]))"
      ]
     },
     "execution_count": 16,
     "metadata": {},
     "output_type": "execute_result"
    }
   ],
   "source": [
    "val"
   ]
  },
  {
   "cell_type": "code",
   "execution_count": 17,
   "id": "e4f9faa9",
   "metadata": {},
   "outputs": [],
   "source": [
    "Expected_Values=val[3]"
   ]
  },
  {
   "cell_type": "code",
   "execution_count": 18,
   "id": "1e7085a3",
   "metadata": {},
   "outputs": [
    {
     "name": "stdout",
     "output_type": "stream",
     "text": [
      "Degree of Freedom:- 1\n"
     ]
    }
   ],
   "source": [
    "no_of_rows=len(dataset_table.iloc[0:2,0])\n",
    "no_of_columns=len(dataset_table.iloc[0,0:2])\n",
    "ddof=(no_of_rows-1)*(no_of_columns-1)\n",
    "print(\"Degree of Freedom:-\",ddof)\n",
    "alpha = 0.05"
   ]
  },
  {
   "cell_type": "code",
   "execution_count": 19,
   "id": "e28bbe17",
   "metadata": {},
   "outputs": [],
   "source": [
    "from scipy.stats import chi2\n",
    "chi_square=sum([(o-e)**2./e for o,e in zip(Observed_Values,Expected_Values)])\n",
    "chi_square_statistic=chi_square[0]+chi_square[1]"
   ]
  },
  {
   "cell_type": "code",
   "execution_count": 20,
   "id": "27132b6f",
   "metadata": {},
   "outputs": [
    {
     "name": "stdout",
     "output_type": "stream",
     "text": [
      "chi-square statistic:- 14701.99999999832\n"
     ]
    }
   ],
   "source": [
    "print(\"chi-square statistic:-\",chi_square_statistic)"
   ]
  },
  {
   "cell_type": "code",
   "execution_count": 21,
   "id": "350f3c2b",
   "metadata": {},
   "outputs": [
    {
     "name": "stdout",
     "output_type": "stream",
     "text": [
      "critical_value: 3.841458820694124\n"
     ]
    }
   ],
   "source": [
    "critical_value=chi2.ppf(q=1-alpha,df=ddof)\n",
    "print('critical_value:',critical_value)"
   ]
  },
  {
   "cell_type": "code",
   "execution_count": 22,
   "id": "74b545d7",
   "metadata": {},
   "outputs": [
    {
     "name": "stdout",
     "output_type": "stream",
     "text": [
      "p-value: 0.0\n",
      "Significance level:  0.05\n",
      "Degree of Freedom:  1\n",
      "p-value: 0.0\n"
     ]
    }
   ],
   "source": [
    "#p-value\n",
    "p_value=1-chi2.cdf(x=chi_square_statistic,df=ddof)\n",
    "print('p-value:',p_value)\n",
    "print('Significance level: ',alpha)\n",
    "print('Degree of Freedom: ',ddof)\n",
    "print('p-value:',p_value)"
   ]
  },
  {
   "cell_type": "code",
   "execution_count": 23,
   "id": "f450da8f",
   "metadata": {},
   "outputs": [
    {
     "name": "stdout",
     "output_type": "stream",
     "text": [
      "Reject H0,There is a relationship between 2 categorical variables\n",
      "Reject H0,There is a relationship between 2 categorical variables\n"
     ]
    }
   ],
   "source": [
    "if chi_square_statistic>=critical_value:\n",
    "    print(\"Reject H0,There is a relationship between 2 categorical variables\")\n",
    "else:\n",
    "    print(\"Retain H0,There is no relationship between 2 categorical variables\")\n",
    "    \n",
    "if p_value<=alpha:\n",
    "    print(\"Reject H0,There is a relationship between 2 categorical variables\")\n",
    "else:\n",
    "    print(\"Retain H0,There is no relationship between 2 categorical variables\")"
   ]
  },
  {
   "cell_type": "code",
   "execution_count": 24,
   "id": "f11253d8",
   "metadata": {},
   "outputs": [],
   "source": [
    "from scipy.stats import chi2_contingency"
   ]
  },
  {
   "cell_type": "code",
   "execution_count": 25,
   "id": "df7c3494",
   "metadata": {},
   "outputs": [
    {
     "name": "stdout",
     "output_type": "stream",
     "text": [
      "            Feature1           Feature2  Chi2 Statistic   P-value\n",
      "0  tBodyAcc-mean()-X  tBodyAcc-mean()-Y    5.400779e+07  0.239815\n",
      "1  tBodyAcc-mean()-X  tBodyAcc-mean()-Z    5.398574e+07  0.240309\n",
      "2  tBodyAcc-mean()-Y  tBodyAcc-mean()-Z    5.402250e+07  0.239785\n"
     ]
    }
   ],
   "source": [
    "\n",
    "train_ds = pd.DataFrame(dataset)\n",
    "\n",
    "results = []\n",
    "\n",
    "for i in range(3):\n",
    "    for j in range(i + 1, 3):\n",
    "        contingency_table = pd.crosstab(train_ds.iloc[:, i], train_ds.iloc[:, j])\n",
    "        chi2, p, _, _ = chi2_contingency(contingency_table)\n",
    "        results.append({\n",
    "            'Feature1': train_ds.columns[i],\n",
    "            'Feature2': train_ds.columns[j],\n",
    "            'Chi2 Statistic': chi2,\n",
    "            'P-value': p\n",
    "        })\n",
    "\n",
    "results_df = pd.DataFrame(results)\n",
    "\n",
    "print(results_df)"
   ]
  },
  {
   "cell_type": "code",
   "execution_count": 32,
   "id": "aa4f25db",
   "metadata": {},
   "outputs": [
    {
     "name": "stdout",
     "output_type": "stream",
     "text": [
      "           Feature1          Feature2  Chi2 Statistic   P-value\n",
      "0  tBodyAcc-std()-X  tBodyAcc-std()-Y    5.401514e+07  0.239890\n",
      "1  tBodyAcc-std()-X  tBodyAcc-std()-Z    5.400779e+07  0.239994\n",
      "2  tBodyAcc-std()-Y  tBodyAcc-std()-Z    5.402250e+07  0.239845\n"
     ]
    }
   ],
   "source": [
    "\n",
    "train_ds = pd.DataFrame(dataset)\n",
    "\n",
    "results = []\n",
    "\n",
    "for i in range(3,6):\n",
    "    for j in range(i+1,6):\n",
    "        contingency_table = pd.crosstab(train_ds.iloc[:, i], train_ds.iloc[:, j])\n",
    "        chi2, p, _, _ = chi2_contingency(contingency_table)\n",
    "\n",
    "        results.append({\n",
    "            'Feature1': train_ds.columns[i],\n",
    "            'Feature2': train_ds.columns[j],\n",
    "            'Chi2 Statistic': chi2,\n",
    "            'P-value': p\n",
    "        })\n",
    "\n",
    "results_df = pd.DataFrame(results)\n",
    "print(results_df)"
   ]
  },
  {
   "cell_type": "code",
   "execution_count": 33,
   "id": "08144e58",
   "metadata": {},
   "outputs": [
    {
     "name": "stdout",
     "output_type": "stream",
     "text": [
      "             Feature1            Feature2  Chi2 Statistic   P-value\n",
      "0  tBodyGyro-mean()-X  tBodyGyro-mean()-Y    5.404455e+07  0.239740\n",
      "1  tBodyGyro-mean()-X  tBodyGyro-mean()-Z    5.403720e+07  0.239755\n",
      "2  tBodyGyro-mean()-Y  tBodyGyro-mean()-Z    5.403720e+07  0.239755\n"
     ]
    }
   ],
   "source": [
    "\n",
    "train_ds = pd.DataFrame(dataset)\n",
    "\n",
    "results = []\n",
    "\n",
    "for i in range(6,9):\n",
    "    for j in range(i+1,9):\n",
    "        contingency_table = pd.crosstab(train_ds.iloc[:, i], train_ds.iloc[:, j])\n",
    "        chi2, p, _, _ = chi2_contingency(contingency_table)\n",
    "\n",
    "        results.append({\n",
    "            'Feature1': train_ds.columns[i],\n",
    "            'Feature2': train_ds.columns[j],\n",
    "            'Chi2 Statistic': chi2,\n",
    "            'P-value': p\n",
    "        })\n",
    "\n",
    "results_df = pd.DataFrame(results)\n",
    "print(results_df)"
   ]
  },
  {
   "cell_type": "code",
   "execution_count": 34,
   "id": "ee06d474",
   "metadata": {},
   "outputs": [
    {
     "name": "stdout",
     "output_type": "stream",
     "text": [
      "            Feature1           Feature2  Chi2 Statistic   P-value\n",
      "0  tBodyGyro-std()-X  tBodyGyro-std()-Y    5.400044e+07  0.239830\n",
      "1  tBodyGyro-std()-X  tBodyGyro-std()-Z    5.399309e+07  0.240024\n",
      "2  tBodyGyro-std()-Y  tBodyGyro-std()-Z    5.403720e+07  0.239755\n"
     ]
    }
   ],
   "source": [
    "\n",
    "train_ds = pd.DataFrame(dataset)\n",
    "\n",
    "results = []\n",
    "\n",
    "for i in range(9,12):\n",
    "    for j in range(i+1,12):\n",
    "        contingency_table = pd.crosstab(train_ds.iloc[:, i], train_ds.iloc[:, j])\n",
    "        chi2, p, _, _ = chi2_contingency(contingency_table)\n",
    "\n",
    "        results.append({\n",
    "            'Feature1': train_ds.columns[i],\n",
    "            'Feature2': train_ds.columns[j],\n",
    "            'Chi2 Statistic': chi2,\n",
    "            'P-value': p\n",
    "        })\n",
    "\n",
    "results_df = pd.DataFrame(results)\n",
    "print(results_df)"
   ]
  },
  {
   "cell_type": "code",
   "execution_count": null,
   "id": "6f8b7da7",
   "metadata": {},
   "outputs": [],
   "source": []
  }
 ],
 "metadata": {
  "kernelspec": {
   "display_name": "Python 3 (ipykernel)",
   "language": "python",
   "name": "python3"
  },
  "language_info": {
   "codemirror_mode": {
    "name": "ipython",
    "version": 3
   },
   "file_extension": ".py",
   "mimetype": "text/x-python",
   "name": "python",
   "nbconvert_exporter": "python",
   "pygments_lexer": "ipython3",
   "version": "3.10.9"
  }
 },
 "nbformat": 4,
 "nbformat_minor": 5
}
